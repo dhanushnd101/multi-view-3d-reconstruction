{
 "cells": [
  {
   "cell_type": "markdown",
   "metadata": {
    "id": "Uv_AZs3o90Oo"
   },
   "source": [
    "# ECE 4554/ ECE 5554 / Computer Vision\n",
    "This file contains Problems 5 and 6 (the coding problems) for Homework 2. \n",
    "Your job is to implement/modify the sections within this notebook that are marked with \"TO DO\".\n",
    "\n",
    "##**TO DO**: Enter your Virginia Tech Username (PID) here: ____________________ \n",
    "\n",
    "##**Honor Code reminder**\n",
    "\n",
    "This is not a \"team project\". Please review the Honor Code statement in the syllabus.  \n",
    "\n",
    "##**Submission guidelines** for the coding problems (Google Colab)\n",
    "\n",
    "1. Please verify that you have entered your Virginia Tech Username in all of the appropriate places.\n",
    "2. After clicking Runtime->Run all, verify that all of your solutions are visible in this notebook.\n",
    "3. Click File->Save near the top of the page to save the latest version of your notebook at Google Drive.\n",
    "4. Verify that the last 2 cells have executed, creating a PDF version of this notebook at Google Drive. (Note: if you face difficulty with this step, please refer to https://pypi.org/project/notebook-as-pdf/)\n",
    "5. Look at the PDF file and check that all of your solutions are displayed correctly there.\n",
    "6. Download your notebook file and the PDF version to your laptop.\n",
    "7. On your laptop, create a ZIP version of this notebook file. (Please don't include the separate data files.) Use file name Homework2_Code_USERNAME.zip, with your own Username.\n",
    "6. For your PDF version, use file name Homework2_Notebook_USERNAME.pdf, with your own Username.\n",
    "7. **<span style=\"color:blue\"> Submit these 2 files and your PDF file for Problems 1-4 SEPARATELY to Canvas.**</span> Do not zip them all together.\n",
    "\n",
    "\n",
    "\n"
   ]
  },
  {
   "cell_type": "markdown",
   "metadata": {
    "id": "6JAJCmmPnS0O"
   },
   "source": [
    "# Environment Setup"
   ]
  },
  {
   "cell_type": "code",
   "execution_count": null,
   "metadata": {
    "id": "5UZyFSREnaux"
   },
   "outputs": [],
   "source": [
    "# Mount your Google Drive to this notebook\n",
    "# The purpose is to allow your code to access to your files\n",
    "from google.colab import drive\n",
    "drive.mount('/content/drive')"
   ]
  },
  {
   "cell_type": "code",
   "execution_count": null,
   "metadata": {
    "id": "LktsMf-_nX24"
   },
   "outputs": [],
   "source": [
    "# Change the directory to your own working directory\n",
    "# Any files under your working directory are available to your code\n",
    "# TO DO: enter the name of your directory\n",
    "import os\n",
    "os.chdir('/content/drive/MyDrive/ECE5554_Fall2021/Homework2')\n",
    "#os.chdir('/content/drive/MyDrive/Colab Notebooks')"
   ]
  },
  {
   "cell_type": "code",
   "execution_count": null,
   "metadata": {
    "id": "2pUZSvqWnpEd"
   },
   "outputs": [],
   "source": [
    "# Import library modules\n",
    "import sys\n",
    "import cv2\n",
    "import numpy as np\n",
    "import matplotlib.pyplot as plt\n",
    "from PIL import Image # PIL is the Python Imaging Library\n",
    "from google.colab.patches import cv2_imshow #(We cannot use cv2.imshow on Colab)"
   ]
  },
  {
   "cell_type": "markdown",
   "metadata": {
    "id": "TDisDz_tP8w1"
   },
   "source": [
    "---\n",
    "#Problem 5: Image filtering (10 points)"
   ]
  },
  {
   "cell_type": "markdown",
   "metadata": {
    "id": "Ic8DE-g5Q5Mv"
   },
   "source": [
    "Write Python/OpenCV code that will apply a linear filter to an image. Demonstrate correct operation of your code by applying filters that are commonly used for smoothing edge detection. (These are low-pass and high-pass filters, respectively.)\n",
    "\n",
    "For this problem, do not use any OpenCV functions other basic operations for loading/saving/displaying image files. During the filtering operation, your code must access pixel values directly, probably with nested 'for' loops. (We know that OpenCV has built-in functions that could be used here, such as cv2.filter2D and cv2.GaussianBlur, but you are not allowed to use them. The purpose of this problem is for you to gain a good understanding of operations at the pixel level.)"
   ]
  },
  {
   "cell_type": "code",
   "execution_count": null,
   "metadata": {
    "id": "REUo3pheRWKU"
   },
   "outputs": [],
   "source": [
    "# GETTING STARTED\n",
    "# Upload file wheel.png to your working directory. \n",
    "# Verify that you can input the image and convert it to grayscale format. \n",
    "# The resulting img_grayscale will be the input to the filtering operations below.\n",
    "\n",
    "img_color = cv2.imread(\"wheel.png\", cv2.IMREAD_COLOR)\n",
    "cv2_imshow(img_color)\n",
    "\n",
    "print ('\\n')\n",
    "img_grayscale = cv2.cvtColor(img_color, cv2.COLOR_BGR2GRAY)\n",
    "cv2_imshow(img_grayscale)"
   ]
  },
  {
   "cell_type": "markdown",
   "metadata": {
    "id": "wZwe9Y1zDTvc"
   },
   "source": [
    "Write a Python function linear_filter() that accepts an image and a kernel as input parameters. Your function must create an output image by applying the kernel (also called \"filter\", \"operator\", \"mask\") to the input image. This new image is returned by your function."
   ]
  },
  {
   "cell_type": "code",
   "execution_count": null,
   "metadata": {
    "id": "lpDXbED8XHkh"
   },
   "outputs": [],
   "source": [
    "def linear_filter(img_in, kernel):\n",
    "  '''Filter an input image by applying cross-correlation with a kernel.\n",
    "\n",
    "  Input: \n",
    "    img_in: a grayscale image of any size larger than the kernel\n",
    "    kernel: a 2D array of floating-point values;\n",
    "     you may assume that this array is square, \n",
    "     with an odd number of rows and an odd number of columns;\n",
    "     use the *center* of this kernel as its point of reference for filtering.\n",
    "\n",
    "  Output:\n",
    "    img_out: an image with the same row/column size as img_in, \n",
    "     but each pixel is a floating-point value;\n",
    "     apply the kernel only at locations where it fits entirely within the \n",
    "     input image; \n",
    "     the remaining pixels (near the outside border of the output image)\n",
    "     must be set to zero;\n",
    "     for any negative values, take the absolute value;\n",
    "     clip the final output so that every pixel value lies in the range 0 to 255.\n",
    "\n",
    "  TO DO: implement the function.\n",
    "  '''\n",
    "  img_out = np.zeros((300, 400), dtype=np.float32)   # Temporary assignment; replace with your code\n",
    "  \n",
    "\n",
    "  return img_out # Each pixel must be of type np.float32\n",
    "\n",
    "\n"
   ]
  },
  {
   "cell_type": "markdown",
   "metadata": {
    "id": "C5J6RHl8Mmp2"
   },
   "source": [
    "Test your linear_filter() function with the following commands."
   ]
  },
  {
   "cell_type": "code",
   "execution_count": null,
   "metadata": {
    "id": "fIadJzUWI4bd"
   },
   "outputs": [],
   "source": [
    "# Here is an example smoothing filter, \n",
    "#  approximating a 2D Gaussian function with sigma = 1.\n",
    "kernel = np.array([\n",
    "          [1, 4, 7, 4, 1],\n",
    "          [4, 16, 26, 16, 4],\n",
    "          [7, 26, 41, 26, 7],\n",
    "          [4, 16, 26, 16, 4],\n",
    "          [1, 4, 7, 4, 1,]], dtype=np.float32) / 273.0\n",
    "\n",
    "# Apply the smoothing filter\n",
    "img_result = linear_filter(img_grayscale, kernel)\n",
    "\n",
    "# Plot both images to make it easy to see that they are the same size\n",
    "cv2_imshow(img_grayscale)\n",
    "cv2_imshow(img_result)\n"
   ]
  },
  {
   "cell_type": "markdown",
   "metadata": {
    "id": "wqxPB5aANJ8H"
   },
   "source": [
    "Create a new kernel of size 9x9, approximating a 2D Gaussian function with sigma = 1.5.  Apply this kernel to img_grayscale, and plot the result. \n",
    "\n",
    "(You must calculate these kernel coefficients yourself. You can use basic Python/NumPy math functions if you wish, but not any special OpenCV functions to create a kernel.)\n"
   ]
  },
  {
   "cell_type": "code",
   "execution_count": null,
   "metadata": {
    "id": "HE6YZLyuOvJZ"
   },
   "outputs": [],
   "source": [
    "# TO DO: write the code\n",
    "\n"
   ]
  },
  {
   "cell_type": "markdown",
   "metadata": {
    "id": "TAzhGJXxP5L9"
   },
   "source": [
    "Create two new 3x3 kernels that contain the two Sobel operators (horizontal and vertical). Remember to normalize the kernels (i.e., divide by 4).  \n",
    "\n",
    "Use your linear_filter() function to apply these two Sobel operators, creating two output images. Display the two output images, showing *magnitudes* of the computed pixel values.\n",
    "\n",
    "Merge the two output images to create a third output image. Use any reasonable technique, such as pixelwise maximum, or pixelwise sum, or pixelwise magnitude. "
   ]
  },
  {
   "cell_type": "code",
   "execution_count": null,
   "metadata": {
    "id": "eNW4M3TlLvKz"
   },
   "outputs": [],
   "source": [
    "# TO DO: write the code\n",
    "\n"
   ]
  },
  {
   "cell_type": "markdown",
   "metadata": {
    "id": "vx7qAMMea-R8"
   },
   "source": [
    "---\n",
    "# Problem 6: Image rotation (10 points)\n"
   ]
  },
  {
   "cell_type": "markdown",
   "metadata": {
    "id": "JHjw4i22bg4c"
   },
   "source": [
    "Write Python/OpenCV code that will input an image, and then create *rotated* versions of the input image. Image rotation is one of the geometric transformations that we discussed in a recent lecture. \n",
    "\n",
    "For this problem, do not use any OpenCV functions other than basic operations for loading/saving/displaying image files. Your code must access pixel values directly, probably with nested 'for' loops. (Yes, OpenCV has built-in functions that could be used here, but you are not allowed to use them. The purpose of this problem is for you to gain a good understanding of operations at the pixel level.)\n",
    "\n",
    "*Hint*: to avoid \"holes\" in your output image, write your loops to iterate over the output image, not over the input image.\n",
    "\n"
   ]
  },
  {
   "cell_type": "code",
   "execution_count": null,
   "metadata": {
    "id": "FQDW50LRK7TK"
   },
   "outputs": [],
   "source": [
    "def display_rotated_images(img_in):\n",
    "  '''Create and display rotated versions of the input image.\n",
    "\n",
    "  Input: \n",
    "    img_in: a grayscale image of any size\n",
    "\n",
    "  Output:\n",
    "    display a sequence of 6 images, each the same size as img_in;\n",
    "     initialize each output image to have pixel values of 0, \n",
    "     and then map gray values from input to output;\n",
    "     rotate about the *image center* in the counterclockwise (CCW) direction\n",
    "     by these amounts: 15, 30, 45, 60, 75, and 90 degrees. \n",
    "\n",
    "  TO DO: implement the function.\n",
    "  '''\n",
    "  \n",
    "\n",
    "  return\n",
    "\n"
   ]
  },
  {
   "cell_type": "markdown",
   "metadata": {
    "id": "T5L2ZQihMHaS"
   },
   "source": [
    "Test your function. After showing the original image, the output should be a display of 6 images, each rotated CCW by an additional amount."
   ]
  },
  {
   "cell_type": "code",
   "execution_count": null,
   "metadata": {
    "collapsed": true,
    "id": "dJd0d_opMNzC"
   },
   "outputs": [],
   "source": [
    "cv2_imshow(img_grayscale)\n",
    "\n",
    "display_rotated_images(img_grayscale)\n"
   ]
  },
  {
   "cell_type": "markdown",
   "metadata": {
    "id": "9oMvIzi4nxPo"
   },
   "source": [
    "---\n",
    "# Creating a PDF version of your current notebook"
   ]
  },
  {
   "cell_type": "code",
   "execution_count": null,
   "metadata": {
    "id": "euPVsDQfn5jq"
   },
   "outputs": [],
   "source": [
    "#The following two installation steps are needed to generate a PDF version of the notebook\n",
    "#(These lines are needed within Google Colab, but are not needed within a local version of Jupyter notebook)\n",
    "!apt-get -qq install texlive texlive-xetex texlive-latex-extra pandoc \n",
    "!pip install --quiet pypandoc"
   ]
  },
  {
   "cell_type": "code",
   "execution_count": null,
   "metadata": {
    "id": "8UGtiNYsoIKJ"
   },
   "outputs": [],
   "source": [
    "# TO DO: Provide the full path to your Jupyter notebook file\n",
    "!jupyter nbconvert --to PDF \"/content/drive/MyDrive/ECE5554_Fall2021/Homework2/Homework2_USERNAME.ipynb\""
   ]
  }
 ],
 "metadata": {
  "colab": {
   "collapsed_sections": [],
   "name": "Homework2_USERNAME.ipynb",
   "provenance": []
  },
  "kernelspec": {
   "display_name": "Python 3",
   "language": "python",
   "name": "python3"
  },
  "language_info": {
   "codemirror_mode": {
    "name": "ipython",
    "version": 3
   },
   "file_extension": ".py",
   "mimetype": "text/x-python",
   "name": "python",
   "nbconvert_exporter": "python",
   "pygments_lexer": "ipython3",
   "version": "3.8.8"
  }
 },
 "nbformat": 4,
 "nbformat_minor": 1
}
